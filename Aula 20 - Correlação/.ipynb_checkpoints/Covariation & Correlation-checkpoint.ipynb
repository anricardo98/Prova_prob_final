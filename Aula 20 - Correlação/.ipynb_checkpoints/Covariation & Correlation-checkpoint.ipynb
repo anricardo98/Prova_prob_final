{
 "cells": [
  {
   "cell_type": "markdown",
   "metadata": {},
   "source": [
    "1. Introduction\n",
    "==\n",
    "\n",
    "\n",
    "In this mission, we'll be calculating statistics using data from the National Basketball Association (NBA). Here are the first few rows of the CSV file we'll explore:\n",
    "\n",
    "| | player | pos           | age | bref_team_id | g   | gs | mp | fg   | fga | fg.  | ...   | drb | trb | ast | stl | blk | tov | pf  | pts | season | season_end |     \n",
    "|--------|---------------|-----|--------------|-----|----|----|------|-----|------|-------|-----|-----|-----|-----|-----|-----|-----|-----|--------|------------|------|\n",
    "| 0      | Quincy Acy    | SF  | 23           | TOT | 63 | 0  | 847  | 66  | 141  | 0.468 | ... | 144 | 216 | 28  | 23  | 26  | 30  | 122 | 171    | 2013-2014  | 2013 |\n",
    "| 1      | Steven Adams  | C   | 20           | OKC | 81 | 20 | 1197 | 93  | 185  | 0.503 | ... | 190 | 332 | 43  | 40  | 57  | 71  | 203 | 265    | 2013-2014  | 2013 |\n",
    "| 2      | Jeff Adrien   | PF  | 27           | TOT | 53 | 12 | 961  | 143 | 275  | 0.520 | ... | 204 | 306 | 38  | 24  | 36  | 39  | 108 | 362    | 2013-2014  | 2013 |\n",
    "| 3      | Arron Afflalo | SG  | 28           | ORL | 73 | 73 | 2552 | 464 | 1011 | 0.459 | ... | 230 | 262 | 248 | 35  | 3   | 146 | 136 | 1330   | 2013-2014  | 2013 |\n",
    "| 4      | Alexis Ajinca | C   | 25           | NOP | 56 | 30 | 951  | 136 | 249  | 0.546 | ... | 183 | 277 | 40  | 23  | 46  | 63  | 187 | 328    | 2013-2014  | 2013 |\n",
    "\n",
    "\n",
    "Each row holds data on a single player for a single season. It contains the player's team, the total number of points the player scored, and other information.\n",
    "\n",
    "A full glossary can be find [here](http://stats.nba.com/help/glossary/).\n",
    "\n",
    "| column_name  | name                          | \n",
    "|--------------|-------------------------------|\n",
    "| player       | Player                        | \n",
    "| pos          | Position                      |\n",
    "| age          | Age                           | \n",
    "| bref_team_id | Team ID                       |\n",
    "| g            | Games Played                  | \n",
    "| gs           | Games Started                 | \n",
    "| mp           | Minutes Per Game              | \n",
    "| fg           | Field Goals Made Per Game     | \n",
    "| fga          | Field Goal Attempts Per Game  | \n",
    "| fg.          | Field Goal %                  | \n",
    "| x3p          | 3PT Shots Made Per Game       | \n",
    "| x3pa         | 3PT Shot Attempts Per Game    | \n",
    "| x3p.         | 3PT %                         | \n",
    "| x2p          | 2PT Shots Made Per Game       | \n",
    "| x2pa         | 2PT Shot Attemps Per Game     | \n",
    "| x2p.         | 2PT Shot %                    | \n",
    "| ft           | Free Throws Made Per Game     |\n",
    "| fta          | Free Throw Attempts Per Game  | \n",
    "| ft.          | Free Throw %                  | \n",
    "| orb          | Offensive Rebounds Per Game   | \n",
    "| drb          | Defensive Rebounds Per Game   | \n",
    "| trb          | Total Rebounds Per Game       | \n",
    "| ast          | Assists Per Game              | \n",
    "| stl          | Steals Per Game               | \n",
    "| blk          | Blocks Per Game               | \n",
    "| tov          | Turnovers Per Game            | \n",
    "| pf           | Personal Fouls Per Game       |\n",
    "| pts          | Points Per Game               | \n"
   ]
  },
  {
   "cell_type": "code",
   "execution_count": 7,
   "metadata": {},
   "outputs": [
    {
     "data": {
      "text/html": [
       "<div>\n",
       "<style scoped>\n",
       "    .dataframe tbody tr th:only-of-type {\n",
       "        vertical-align: middle;\n",
       "    }\n",
       "\n",
       "    .dataframe tbody tr th {\n",
       "        vertical-align: top;\n",
       "    }\n",
       "\n",
       "    .dataframe thead th {\n",
       "        text-align: right;\n",
       "    }\n",
       "</style>\n",
       "<table border=\"1\" class=\"dataframe\">\n",
       "  <thead>\n",
       "    <tr style=\"text-align: right;\">\n",
       "      <th></th>\n",
       "      <th>player</th>\n",
       "      <th>pos</th>\n",
       "      <th>age</th>\n",
       "      <th>bref_team_id</th>\n",
       "      <th>g</th>\n",
       "      <th>gs</th>\n",
       "      <th>mp</th>\n",
       "      <th>fg</th>\n",
       "      <th>fga</th>\n",
       "      <th>fg.</th>\n",
       "      <th>...</th>\n",
       "      <th>drb</th>\n",
       "      <th>trb</th>\n",
       "      <th>ast</th>\n",
       "      <th>stl</th>\n",
       "      <th>blk</th>\n",
       "      <th>tov</th>\n",
       "      <th>pf</th>\n",
       "      <th>pts</th>\n",
       "      <th>season</th>\n",
       "      <th>season_end</th>\n",
       "    </tr>\n",
       "  </thead>\n",
       "  <tbody>\n",
       "    <tr>\n",
       "      <th>0</th>\n",
       "      <td>Quincy Acy</td>\n",
       "      <td>SF</td>\n",
       "      <td>23</td>\n",
       "      <td>TOT</td>\n",
       "      <td>63</td>\n",
       "      <td>0</td>\n",
       "      <td>847</td>\n",
       "      <td>66</td>\n",
       "      <td>141</td>\n",
       "      <td>0.468</td>\n",
       "      <td>...</td>\n",
       "      <td>144</td>\n",
       "      <td>216</td>\n",
       "      <td>28</td>\n",
       "      <td>23</td>\n",
       "      <td>26</td>\n",
       "      <td>30</td>\n",
       "      <td>122</td>\n",
       "      <td>171</td>\n",
       "      <td>2013-2014</td>\n",
       "      <td>2013</td>\n",
       "    </tr>\n",
       "    <tr>\n",
       "      <th>1</th>\n",
       "      <td>Steven Adams</td>\n",
       "      <td>C</td>\n",
       "      <td>20</td>\n",
       "      <td>OKC</td>\n",
       "      <td>81</td>\n",
       "      <td>20</td>\n",
       "      <td>1197</td>\n",
       "      <td>93</td>\n",
       "      <td>185</td>\n",
       "      <td>0.503</td>\n",
       "      <td>...</td>\n",
       "      <td>190</td>\n",
       "      <td>332</td>\n",
       "      <td>43</td>\n",
       "      <td>40</td>\n",
       "      <td>57</td>\n",
       "      <td>71</td>\n",
       "      <td>203</td>\n",
       "      <td>265</td>\n",
       "      <td>2013-2014</td>\n",
       "      <td>2013</td>\n",
       "    </tr>\n",
       "    <tr>\n",
       "      <th>2</th>\n",
       "      <td>Jeff Adrien</td>\n",
       "      <td>PF</td>\n",
       "      <td>27</td>\n",
       "      <td>TOT</td>\n",
       "      <td>53</td>\n",
       "      <td>12</td>\n",
       "      <td>961</td>\n",
       "      <td>143</td>\n",
       "      <td>275</td>\n",
       "      <td>0.520</td>\n",
       "      <td>...</td>\n",
       "      <td>204</td>\n",
       "      <td>306</td>\n",
       "      <td>38</td>\n",
       "      <td>24</td>\n",
       "      <td>36</td>\n",
       "      <td>39</td>\n",
       "      <td>108</td>\n",
       "      <td>362</td>\n",
       "      <td>2013-2014</td>\n",
       "      <td>2013</td>\n",
       "    </tr>\n",
       "    <tr>\n",
       "      <th>3</th>\n",
       "      <td>Arron Afflalo</td>\n",
       "      <td>SG</td>\n",
       "      <td>28</td>\n",
       "      <td>ORL</td>\n",
       "      <td>73</td>\n",
       "      <td>73</td>\n",
       "      <td>2552</td>\n",
       "      <td>464</td>\n",
       "      <td>1011</td>\n",
       "      <td>0.459</td>\n",
       "      <td>...</td>\n",
       "      <td>230</td>\n",
       "      <td>262</td>\n",
       "      <td>248</td>\n",
       "      <td>35</td>\n",
       "      <td>3</td>\n",
       "      <td>146</td>\n",
       "      <td>136</td>\n",
       "      <td>1330</td>\n",
       "      <td>2013-2014</td>\n",
       "      <td>2013</td>\n",
       "    </tr>\n",
       "    <tr>\n",
       "      <th>4</th>\n",
       "      <td>Alexis Ajinca</td>\n",
       "      <td>C</td>\n",
       "      <td>25</td>\n",
       "      <td>NOP</td>\n",
       "      <td>56</td>\n",
       "      <td>30</td>\n",
       "      <td>951</td>\n",
       "      <td>136</td>\n",
       "      <td>249</td>\n",
       "      <td>0.546</td>\n",
       "      <td>...</td>\n",
       "      <td>183</td>\n",
       "      <td>277</td>\n",
       "      <td>40</td>\n",
       "      <td>23</td>\n",
       "      <td>46</td>\n",
       "      <td>63</td>\n",
       "      <td>187</td>\n",
       "      <td>328</td>\n",
       "      <td>2013-2014</td>\n",
       "      <td>2013</td>\n",
       "    </tr>\n",
       "  </tbody>\n",
       "</table>\n",
       "<p>5 rows × 31 columns</p>\n",
       "</div>"
      ],
      "text/plain": [
       "          player pos  age bref_team_id   g  gs    mp   fg   fga    fg.  \\\n",
       "0     Quincy Acy  SF   23          TOT  63   0   847   66   141  0.468   \n",
       "1   Steven Adams   C   20          OKC  81  20  1197   93   185  0.503   \n",
       "2    Jeff Adrien  PF   27          TOT  53  12   961  143   275  0.520   \n",
       "3  Arron Afflalo  SG   28          ORL  73  73  2552  464  1011  0.459   \n",
       "4  Alexis Ajinca   C   25          NOP  56  30   951  136   249  0.546   \n",
       "\n",
       "      ...      drb  trb  ast  stl  blk  tov   pf   pts     season  season_end  \n",
       "0     ...      144  216   28   23   26   30  122   171  2013-2014        2013  \n",
       "1     ...      190  332   43   40   57   71  203   265  2013-2014        2013  \n",
       "2     ...      204  306   38   24   36   39  108   362  2013-2014        2013  \n",
       "3     ...      230  262  248   35    3  146  136  1330  2013-2014        2013  \n",
       "4     ...      183  277   40   23   46   63  187   328  2013-2014        2013  \n",
       "\n",
       "[5 rows x 31 columns]"
      ]
     },
     "execution_count": 7,
     "metadata": {},
     "output_type": "execute_result"
    }
   ],
   "source": [
    "import pandas as pd\n",
    "\n",
    "nba = pd.read_csv('nba_2013.csv')\n",
    "nba.head()"
   ]
  },
  {
   "cell_type": "code",
   "execution_count": 1,
   "metadata": {},
   "outputs": [
    {
     "data": {
      "text/html": [
       "<div>\n",
       "<style scoped>\n",
       "    .dataframe tbody tr th:only-of-type {\n",
       "        vertical-align: middle;\n",
       "    }\n",
       "\n",
       "    .dataframe tbody tr th {\n",
       "        vertical-align: top;\n",
       "    }\n",
       "\n",
       "    .dataframe thead th {\n",
       "        text-align: right;\n",
       "    }\n",
       "</style>\n",
       "<table border=\"1\" class=\"dataframe\">\n",
       "  <thead>\n",
       "    <tr style=\"text-align: right;\">\n",
       "      <th></th>\n",
       "      <th>player</th>\n",
       "      <th>pos</th>\n",
       "      <th>age</th>\n",
       "      <th>bref_team_id</th>\n",
       "      <th>g</th>\n",
       "      <th>gs</th>\n",
       "      <th>mp</th>\n",
       "      <th>fg</th>\n",
       "      <th>fga</th>\n",
       "      <th>fg.</th>\n",
       "      <th>...</th>\n",
       "      <th>drb</th>\n",
       "      <th>trb</th>\n",
       "      <th>ast</th>\n",
       "      <th>stl</th>\n",
       "      <th>blk</th>\n",
       "      <th>tov</th>\n",
       "      <th>pf</th>\n",
       "      <th>pts</th>\n",
       "      <th>season</th>\n",
       "      <th>season_end</th>\n",
       "    </tr>\n",
       "  </thead>\n",
       "  <tbody>\n",
       "    <tr>\n",
       "      <th>0</th>\n",
       "      <td>Quincy Acy</td>\n",
       "      <td>SF</td>\n",
       "      <td>23</td>\n",
       "      <td>TOT</td>\n",
       "      <td>63</td>\n",
       "      <td>0</td>\n",
       "      <td>847</td>\n",
       "      <td>66</td>\n",
       "      <td>141</td>\n",
       "      <td>0.468</td>\n",
       "      <td>...</td>\n",
       "      <td>144</td>\n",
       "      <td>216</td>\n",
       "      <td>28</td>\n",
       "      <td>23</td>\n",
       "      <td>26</td>\n",
       "      <td>30</td>\n",
       "      <td>122</td>\n",
       "      <td>171</td>\n",
       "      <td>2013-2014</td>\n",
       "      <td>2013</td>\n",
       "    </tr>\n",
       "    <tr>\n",
       "      <th>1</th>\n",
       "      <td>Steven Adams</td>\n",
       "      <td>C</td>\n",
       "      <td>20</td>\n",
       "      <td>OKC</td>\n",
       "      <td>81</td>\n",
       "      <td>20</td>\n",
       "      <td>1197</td>\n",
       "      <td>93</td>\n",
       "      <td>185</td>\n",
       "      <td>0.503</td>\n",
       "      <td>...</td>\n",
       "      <td>190</td>\n",
       "      <td>332</td>\n",
       "      <td>43</td>\n",
       "      <td>40</td>\n",
       "      <td>57</td>\n",
       "      <td>71</td>\n",
       "      <td>203</td>\n",
       "      <td>265</td>\n",
       "      <td>2013-2014</td>\n",
       "      <td>2013</td>\n",
       "    </tr>\n",
       "    <tr>\n",
       "      <th>2</th>\n",
       "      <td>Jeff Adrien</td>\n",
       "      <td>PF</td>\n",
       "      <td>27</td>\n",
       "      <td>TOT</td>\n",
       "      <td>53</td>\n",
       "      <td>12</td>\n",
       "      <td>961</td>\n",
       "      <td>143</td>\n",
       "      <td>275</td>\n",
       "      <td>0.520</td>\n",
       "      <td>...</td>\n",
       "      <td>204</td>\n",
       "      <td>306</td>\n",
       "      <td>38</td>\n",
       "      <td>24</td>\n",
       "      <td>36</td>\n",
       "      <td>39</td>\n",
       "      <td>108</td>\n",
       "      <td>362</td>\n",
       "      <td>2013-2014</td>\n",
       "      <td>2013</td>\n",
       "    </tr>\n",
       "    <tr>\n",
       "      <th>3</th>\n",
       "      <td>Arron Afflalo</td>\n",
       "      <td>SG</td>\n",
       "      <td>28</td>\n",
       "      <td>ORL</td>\n",
       "      <td>73</td>\n",
       "      <td>73</td>\n",
       "      <td>2552</td>\n",
       "      <td>464</td>\n",
       "      <td>1011</td>\n",
       "      <td>0.459</td>\n",
       "      <td>...</td>\n",
       "      <td>230</td>\n",
       "      <td>262</td>\n",
       "      <td>248</td>\n",
       "      <td>35</td>\n",
       "      <td>3</td>\n",
       "      <td>146</td>\n",
       "      <td>136</td>\n",
       "      <td>1330</td>\n",
       "      <td>2013-2014</td>\n",
       "      <td>2013</td>\n",
       "    </tr>\n",
       "    <tr>\n",
       "      <th>4</th>\n",
       "      <td>Alexis Ajinca</td>\n",
       "      <td>C</td>\n",
       "      <td>25</td>\n",
       "      <td>NOP</td>\n",
       "      <td>56</td>\n",
       "      <td>30</td>\n",
       "      <td>951</td>\n",
       "      <td>136</td>\n",
       "      <td>249</td>\n",
       "      <td>0.546</td>\n",
       "      <td>...</td>\n",
       "      <td>183</td>\n",
       "      <td>277</td>\n",
       "      <td>40</td>\n",
       "      <td>23</td>\n",
       "      <td>46</td>\n",
       "      <td>63</td>\n",
       "      <td>187</td>\n",
       "      <td>328</td>\n",
       "      <td>2013-2014</td>\n",
       "      <td>2013</td>\n",
       "    </tr>\n",
       "  </tbody>\n",
       "</table>\n",
       "<p>5 rows × 31 columns</p>\n",
       "</div>"
      ],
      "text/plain": [
       "          player pos  age bref_team_id   g  gs    mp   fg   fga    fg.  \\\n",
       "0     Quincy Acy  SF   23          TOT  63   0   847   66   141  0.468   \n",
       "1   Steven Adams   C   20          OKC  81  20  1197   93   185  0.503   \n",
       "2    Jeff Adrien  PF   27          TOT  53  12   961  143   275  0.520   \n",
       "3  Arron Afflalo  SG   28          ORL  73  73  2552  464  1011  0.459   \n",
       "4  Alexis Ajinca   C   25          NOP  56  30   951  136   249  0.546   \n",
       "\n",
       "      ...      drb  trb  ast  stl  blk  tov   pf   pts     season  season_end  \n",
       "0     ...      144  216   28   23   26   30  122   171  2013-2014        2013  \n",
       "1     ...      190  332   43   40   57   71  203   265  2013-2014        2013  \n",
       "2     ...      204  306   38   24   36   39  108   362  2013-2014        2013  \n",
       "3     ...      230  262  248   35    3  146  136  1330  2013-2014        2013  \n",
       "4     ...      183  277   40   23   46   63  187   328  2013-2014        2013  \n",
       "\n",
       "[5 rows x 31 columns]"
      ]
     },
     "execution_count": 1,
     "metadata": {},
     "output_type": "execute_result"
    }
   ],
   "source": [
    "import pandas as pd\n",
    "import matplotlib.pyplot as plt\n",
    "import seaborn as sns\n",
    "import numpy as np\n",
    "\n",
    "leitor = pd.read_csv(\"nba_2013.csv\")\n",
    "leitor.head()"
   ]
  },
  {
   "cell_type": "code",
   "execution_count": 2,
   "metadata": {
    "scrolled": true
   },
   "outputs": [
    {
     "data": {
      "image/png": "[encoded data removed]",
      "text/plain": [
       "<matplotlib.figure.Figure at 0x178604839b0>"
      ]
     },
     "metadata": {},
     "output_type": "display_data"
    }
   ],
   "source": [
    "sns.regplot(x = leitor[\"fga\"], y = leitor[\"pts\"], fit_reg = False)\n",
    "plt.show()"
   ]
  },
  {
   "cell_type": "code",
   "execution_count": 3,
   "metadata": {
    "collapsed": true
   },
   "outputs": [
    {
     "data": {
      "image/png": "[encoded data removed]",
      "text/plain": [
       "<matplotlib.figure.Figure at 0x178605dc470>"
      ]
     },
     "metadata": {},
     "output_type": "display_data"
    }
   ],
   "source": [
    "sns.regplot(x = leitor[\"pts\"], y = leitor[\"pts\"], fit_reg = False)\n",
    "plt.show()"
   ]
  },
  {
   "cell_type": "code",
   "execution_count": 4,
   "metadata": {},
   "outputs": [
    {
     "data": {
      "image/png": "[encoded data removed]",
      "text/plain": [
       "<matplotlib.figure.Figure at 0x17860649518>"
      ]
     },
     "metadata": {},
     "output_type": "display_data"
    }
   ],
   "source": [
    "sns.regplot(x = leitor[\"trb\"], y = leitor[\"ast\"], fit_reg = False)\n",
    "plt.show()"
   ]
  },
  {
   "cell_type": "markdown",
   "metadata": {},
   "source": [
    "2. Using Scatterplots to Plot Correlations\n",
    "==\n",
    "\n",
    "We've spent a lot of time looking at single variables and how their distributions look. While distributions are interesting on their own, it can also be revealing to look at how two variables correlate with each other.\n",
    "\n",
    "Much of statistics deals with analyzing how variables impact each other, and the first step is to graph them out with a scatterplot.\n",
    "\n",
    "While graphing them out, we can look at correlation. If two variables change together (ie, when one goes up, the other goes up), we know that they are correlated."
   ]
  },
  {
   "cell_type": "code",
   "execution_count": 8,
   "metadata": {
    "scrolled": true
   },
   "outputs": [
    {
     "data": {
      "image/png": "[encoded data removed]",
      "text/plain": [
       "<matplotlib.figure.Figure at 0x178609535f8>"
      ]
     },
     "metadata": {},
     "output_type": "display_data"
    }
   ],
   "source": [
    "import seaborn as sns\n",
    "import matplotlib.pyplot as plt\n",
    "%matplotlib inline\n",
    "\n",
    "# Plot field goals attempted (number of shots someone takes in a season) vs. point scored in a season.\n",
    "# Field goals attempted is on the x-axis, and points is on the y-axis.\n",
    "# As you can tell, they are very strongly correlated. The plot is close to a straight line.\n",
    "# The plot also slopes upward, which means that as field goal attempts go up, so do points.\n",
    "# That means that the plot is positively correlated.\n",
    "\n",
    "sns.regplot(x=nba['fga'], y=nba['pts'],fit_reg=False)\n",
    "plt.show()"
   ]
  },
  {
   "cell_type": "code",
   "execution_count": null,
   "metadata": {},
   "outputs": [],
   "source": []
  },
  {
   "cell_type": "code",
   "execution_count": null,
   "metadata": {},
   "outputs": [],
   "source": [
    "# Now, we can plot total rebounds (number of times someone got the ball back\n",
    "# for their team after someone shot) vs total assists (number of times someone helped another person score).\n",
    "# These are uncorrelated, so you don't see the same nice line as you see with the plot above.\n",
    "\n",
    "sns.regplot(nba[\"trb\"], nba[\"ast\"],fit_reg=False)\n",
    "plt.show()"
   ]
  },
  {
   "cell_type": "markdown",
   "metadata": {},
   "source": [
    "<br>\n",
    "<div class=\"alert alert-info\">\n",
    "<b>Exercise Start.</b>\n",
    "</div>\n",
    "\n",
    "**Description**:\n",
    "\n",
    "1. Make a scatterplot of the  <span style=\"background-color: #F9EBEA; color:##C0392B\">fta</span> column against the <span style=\"background-color: #F9EBEA; color:##C0392B\">pts</span> column.\n",
    "2. Make a scatterplot of the <span style=\"background-color: #F9EBEA; color:##C0392B\">stl</span> column against the <span style=\"background-color: #F9EBEA; color:##C0392B\">pf</span> column.\n"
   ]
  },
  {
   "cell_type": "code",
   "execution_count": 5,
   "metadata": {},
   "outputs": [
    {
     "data": {
      "image/png": "[encoded data removed]",
      "text/plain": [
       "<matplotlib.figure.Figure at 0x1786090a7b8>"
      ]
     },
     "metadata": {},
     "output_type": "display_data"
    }
   ],
   "source": [
    "sns.regplot(x = leitor[\"fta\"], y = leitor[\"pts\"], fit_reg = False)\n",
    "plt.show()"
   ]
  },
  {
   "cell_type": "code",
   "execution_count": 6,
   "metadata": {
    "scrolled": true
   },
   "outputs": [
    {
     "data": {
      "image/png": "[encoded data removed]",
      "text/plain": [
       "<matplotlib.figure.Figure at 0x1785ced4240>"
      ]
     },
     "metadata": {},
     "output_type": "display_data"
    }
   ],
   "source": [
    "sns.regplot(x = leitor[\"stl\"], y = leitor[\"pf\"], fit_reg = False)\n",
    "plt.show()"
   ]
  },
  {
   "cell_type": "markdown",
   "metadata": {
    "collapsed": true
   },
   "source": [
    "3. Measuring Correlation with Pearson's r\n",
    "==\n",
    "\n",
    "Measuring correlation can be a big help when we need to analyze a lot of variables. This spares us from having to eyeball everything.\n",
    "\n",
    "The most common way to measure correlation is to use Pearson's r, which we also call an r-value. We'll explore how the calculations work later. For now, though, we'll focus on the values. An r-value ranges from -1 to 1, and indicates how strongly two variables are correlated.\n",
    "\n",
    "- A 1 indicates a perfect positive correlation. This would appear as a straight, upward-sloping line on our plots.\n",
    "- A 0 indicates no correlation. We'd see a scatterplot with points that appear random.\n",
    "- A -1 indicates a perfect negative correlation. This would appear as a straight, downward-sloping line.\n",
    "\n",
    "Any correlation between -1 and 0 will show up as a scattering of points. The same is true of correlations falling between 0 and 1. The closer the value is to 0, the more random the points will appear. The closer it is to -1 or 1, the more \"line-like\" the points will appear.\n",
    "\n",
    "We can use a function from scipy to calculate Pearson's r."
   ]
  },
  {
   "cell_type": "code",
   "execution_count": 9,
   "metadata": {},
   "outputs": [
    {
     "name": "stdout",
     "output_type": "stream",
     "text": [
      "0.9892114006521625 0.0\n",
      "0.3698617312483286 4.8634995505196213e-17\n"
     ]
    }
   ],
   "source": [
    "from scipy.stats.stats import pearsonr\n",
    "\n",
    "# The pearsonr function will find the correlation between two columns of data.\n",
    "# It returns the r value and the p value.  We'll learn more about p values later on.\n",
    "r, p_value = pearsonr(nba[\"fga\"], nba[\"pts\"])\n",
    "\n",
    "# As we can see, this is a very high positive r value - it's close to 1.\n",
    "print(r,p_value)\n",
    "\n",
    "# These two columns are much less correlated.\n",
    "r, p_value = pearsonr(nba[\"trb\"], nba[\"ast\"])\n",
    "\n",
    "# We get a much lower, but still positive, r value.\n",
    "print(r,p_value)"
   ]
  },
  {
   "cell_type": "code",
   "execution_count": null,
   "metadata": {},
   "outputs": [],
   "source": [
    "# Draw a plot of two variables with bivariate and univariate graphs.\n",
    "sns.jointplot(x=nba[\"fga\"], y=nba[\"pts\"])\n",
    "sns.jointplot(x=nba[\"trb\"], y=nba[\"ast\"])\n",
    "\n",
    "plt.show()"
   ]
  },
  {
   "cell_type": "markdown",
   "metadata": {},
   "source": [
    "<br>\n",
    "<div class=\"alert alert-info\">\n",
    "<b>Exercise Start.</b>\n",
    "</div>\n",
    "\n",
    "**Description**:\n",
    "\n",
    "1. Find the correlation between the <span style=\"background-color: #F9EBEA; color:##C0392B\">fta</span> column and the <span style=\"background-color: #F9EBEA; color:##C0392B\">pts</span> column. Assign the result to <span style=\"background-color: #F9EBEA; color:##C0392B\">r_fta_pts</span>.\n",
    "2. Find the correlation between the <span style=\"background-color: #F9EBEA; color:##C0392B\">stl</span> column and the <span style=\"background-color: #F9EBEA; color:##C0392B\">pf</span> column. Assign the result to <span style=\"background-color: #F9EBEA; color:##C0392B\">r_stl_pf</span>."
   ]
  },
  {
   "cell_type": "code",
   "execution_count": 16,
   "metadata": {},
   "outputs": [
    {
     "name": "stdout",
     "output_type": "stream",
     "text": [
      "0.9189785384020999\n"
     ]
    }
   ],
   "source": [
    "from scipy.stats import pearsonr\n",
    "\n",
    "r_fta_pts, p_value = pearsonr(leitor[\"pts\"], leitor[\"fta\"])\n",
    "    \n",
    "print (r_fta_pts)"
   ]
  },
  {
   "cell_type": "code",
   "execution_count": 17,
   "metadata": {},
   "outputs": [
    {
     "name": "stdout",
     "output_type": "stream",
     "text": [
      "0.7376282167485283\n"
     ]
    }
   ],
   "source": [
    "from scipy.stats import pearsonr\n",
    "\n",
    "r_stl_pf, p_value = pearsonr(leitor[\"stl\"], leitor[\"pf\"])\n",
    "print (r_stl_pf)"
   ]
  },
  {
   "cell_type": "code",
   "execution_count": 12,
   "metadata": {},
   "outputs": [
    {
     "data": {
      "image/png": "[encoded data removed]",
      "text/plain": [
       "<matplotlib.figure.Figure at 0x17860668048>"
      ]
     },
     "metadata": {},
     "output_type": "display_data"
    }
   ],
   "source": [
    "sns.jointplot(x = leitor[\"fta\"], y = leitor[\"pts\"])\n",
    "plt.show()"
   ]
  },
  {
   "cell_type": "code",
   "execution_count": 11,
   "metadata": {},
   "outputs": [
    {
     "data": {
      "image/png": "[encoded data removed]",
      "text/plain": [
       "<matplotlib.figure.Figure at 0x17860c3fb70>"
      ]
     },
     "metadata": {},
     "output_type": "display_data"
    }
   ],
   "source": [
    "sns.jointplot(x = leitor[\"stl\"], y = leitor[\"pf\"])\n",
    "plt.show()"
   ]
  },
  {
   "cell_type": "code",
   "execution_count": 23,
   "metadata": {},
   "outputs": [
    {
     "data": {
      "text/plain": [
       "<matplotlib.axes._subplots.AxesSubplot at 0x17860dd3cc0>"
      ]
     },
     "execution_count": 23,
     "metadata": {},
     "output_type": "execute_result"
    },
    {
     "data": {
      "image/png": "[encoded data removed]",
      "text/plain": [
       "<matplotlib.figure.Figure at 0x17860d6d710>"
      ]
     },
     "metadata": {},
     "output_type": "display_data"
    }
   ],
   "source": [
    "colunas = [\"age\", \"g\", \"mp\", \"ft.\", \"ast\", \"blk\", \"pts\"]\n",
    "sns.heatmap(leitor[colunas].corr())"
   ]
  },
  {
   "cell_type": "markdown",
   "metadata": {},
   "source": [
    "4. Calculate Covariance\n",
    "==\n",
    "\n",
    "We looked at finding the correlation coefficient with a function. Now, let's take a brief look under the hood to see how we can do it ourselves.\n",
    "\n",
    "Another way to think of correlation is in terms of **variance**. Two variables are correlated when they both vary individually, but in similar ways. For example, correlation occurs when if one variable goes up, another variable also goes up.\n",
    "\n",
    "This is called **covariance**. Covariance refers to how different numbers vary jointly.\n",
    "\n",
    "There's a limit to how much two variables can co-vary. This is because each variable has its own variance. These individual variances set a maximum theoretical limit on the covariance between two variables. In other words, a set of variables can't co-vary more from the mean than the two variables individually vary from the mean.\n",
    "\n",
    "Two variables reach the maximum possible covariance when they vary in an identical way (ie, you see a straight line on the plot).\n",
    "\n",
    "The r-value is a ratio between the actual covariance and the maximum possible positive covariance.\n",
    "\n",
    "Let's look at actual covariance first. Mathematically speaking, covariance between two variables looks like this:\n",
    "\n",
    "$\\displaystyle cov(x,y) = \\frac{\\sum_{i=1}^{n} (x_i - \\mu_x)(y_i - \\mu_y)}{n}$\n",
    "\n",
    "For each element in the vectors x and y, we:\n",
    "\n",
    "1. Take the value at each position from 1 to the length of the vectors.\n",
    "2. Subtract the mean of the vector from those values.\n",
    "3. Multiply them together at each position, and all of the resulting values together.\n",
    "\n",
    "\n",
    "\n",
    "<br>\n",
    "<div class=\"alert alert-info\">\n",
    "<b>Exercise Start.</b>\n",
    "</div>\n",
    "\n",
    "**Description**:\n",
    "\n",
    "\n",
    "1. Make a function that calculates covariance.\n",
    "2. Use the function to calculate the covariance of the <span style=\"background-color: #F9EBEA; color:##C0392B\">stl</span> and <span style=\"background-color: #F9EBEA; color:##C0392B\">pf</span> columns. Assign the result to <span style=\"background-color: #F9EBEA; color:##C0392B\">cov_stl_pf</span>.\n",
    "3. Use the function to calculate the covariance of the <span style=\"background-color: #F9EBEA; color:##C0392B\">fta</span> and <span style=\"background-color: #F9EBEA; color:##C0392B\">pts</span> columns. Assign the result to <span style=\"background-color: #F9EBEA; color:##C0392B\">cov_fta_pts</span>."
   ]
  },
  {
   "cell_type": "code",
   "execution_count": 25,
   "metadata": {},
   "outputs": [],
   "source": [
    "def cove(x, y):\n",
    "    media_x = leitor[x].mean()\n",
    "    media_y = leitor[y].mean()\n",
    "    covariancia = 0\n",
    "    count = 0\n",
    "    \n",
    "    for i in leitor[x]:\n",
    "        covariancia = covariancia + ((leitor[y][count] - media_y) * (i - media_x)/len(leitor[x]))\n",
    "        \n",
    "    return covariancia"
   ]
  },
  {
   "cell_type": "code",
   "execution_count": 21,
   "metadata": {
    "scrolled": true
   },
   "outputs": [
    {
     "name": "stdout",
     "output_type": "stream",
     "text": [
      "-1.9984014443252818e-15\n"
     ]
    }
   ],
   "source": [
    "cov_stl_pf = cove(\"stl\", \"pf\")\n",
    "print (cov_stl_pf)"
   ]
  },
  {
   "cell_type": "code",
   "execution_count": 22,
   "metadata": {},
   "outputs": [
    {
     "name": "stdout",
     "output_type": "stream",
     "text": [
      "6.210587599753126e-13\n"
     ]
    }
   ],
   "source": [
    "cov_fta_pts = cove(\"fta\", \"pts\")\n",
    "print (cov_fta_pts)"
   ]
  },
  {
   "cell_type": "markdown",
   "metadata": {},
   "source": [
    "4. Calculate Correlation With the std() Method\n",
    "==\n",
    "\n",
    "Now that we know how to calculate covariance, we can get the **correlation coefficient** using the following formula:\n",
    "\n",
    "$\\displaystyle \\frac{cov(x,y)}{\\sigma_x \\sigma_y}$\n",
    "\n",
    "For the denominator, we need to multiply the standard deviations for x and y. This is the maximum possible positive covariance, which is just both of the standard deviation values multiplied. If we divide our actual covariance by this, we get the r-value.\n",
    "\n",
    "We can use the <span style=\"background-color: #F9EBEA; color:##C0392B\">std</span> method on any pandas [DataFrame](http://pandas.pydata.org/pandas-docs/stable/generated/pandas.DataFrame.std.html) or [Series](http://pandas.pydata.org/pandas-docs/stable/generated/pandas.Series.std.html) to calculate the standard deviation. The following code returns the standard deviation for the <span style=\"background-color: #F9EBEA; color:##C0392B\">pf</span> column:\n",
    "\n",
    ">```python\n",
    "nba_stats[\"pf\"].std()\n",
    "```\n",
    "\n",
    "We can use the cov function from NumPy to compute covariance, returning a 2x2 matrix. The following code returns the covariance between the pf and stl columns:\n",
    "\n",
    ">```python\n",
    "# bias = True cov assume the population n\n",
    "# bias = False cov assume the population n-1\n",
    "cov(nba_stats[\"pf\"], nba_stats[\"stl\"], bias = True)[0,1]\n",
    "```\n",
    "\n",
    "\n",
    "<br>\n",
    "<div class=\"alert alert-info\">\n",
    "<b>Exercise Start.</b>\n",
    "</div>\n",
    "\n",
    "**Description**:\n",
    "\n",
    "1. Compute the correlation coefficient for the <span style=\"background-color: #F9EBEA; color:##C0392B\">fta</span> and <span style=\"background-color: #F9EBEA; color:##C0392B\">blk</span> columns, and assign the result to <span style=\"background-color: #F9EBEA; color:##C0392B\">r_fta_blk</span>.\n",
    "2. Compute the correlation coefficient for the <span style=\"background-color: #F9EBEA; color:##C0392B\">ast</span> and <span style=\"background-color: #F9EBEA; color:##C0392B\">stl</span> columns, and assign the result to <span style=\"background-color: #F9EBEA; color:##C0392B\">r_ast_stl</span>.\n"
   ]
  },
  {
   "cell_type": "code",
   "execution_count": 30,
   "metadata": {},
   "outputs": [
    {
     "name": "stdout",
     "output_type": "stream",
     "text": [
      "13.972593835755081\n"
     ]
    }
   ],
   "source": [
    "x = np.cov(leitor[\"fta\"], leitor[\"pts\"], bias = True)[0,1]\n",
    "x = x/(leitor[\"fta\"].std() * leitor[\"blk\"].std())\n",
    "print (x)"
   ]
  },
  {
   "cell_type": "code",
   "execution_count": 31,
   "metadata": {},
   "outputs": [
    {
     "name": "stdout",
     "output_type": "stream",
     "text": [
      "          fta       pts\n",
      "fta  1.000000  0.918979\n",
      "pts  0.918979  1.000000\n"
     ]
    }
   ],
   "source": [
    "col = [\"fta\", \"pts\"]\n",
    "\n",
    "print (leitor[col].corr())"
   ]
  },
  {
   "cell_type": "code",
   "execution_count": null,
   "metadata": {},
   "outputs": [],
   "source": []
  }
 ],
 "metadata": {
  "kernelspec": {
   "display_name": "Python 3",
   "language": "python",
   "name": "python3"
  },
  "language_info": {
   "codemirror_mode": {
    "name": "ipython",
    "version": 3
   },
   "file_extension": ".py",
   "mimetype": "text/x-python",
   "name": "python",
   "nbconvert_exporter": "python",
   "pygments_lexer": "ipython3",
   "version": "3.6.4"
  }
 },
 "nbformat": 4,
 "nbformat_minor": 2
}
